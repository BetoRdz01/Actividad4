{
 "cells": [
  {
   "cell_type": "code",
   "execution_count": null,
   "metadata": {},
   "outputs": [],
   "source": [
    "import pandas as pd\n",
    "import numpy as np\n",
    "import matplotlib.pyplot as plt\n",
    "import cufflinks as cf\n",
    "from IPython.display import display,HTML"
   ]
  },
  {
   "cell_type": "code",
   "execution_count": null,
   "metadata": {},
   "outputs": [],
   "source": [
    "#Leo mi archivo.csv\n",
    "Covid = pd.read_csv(\"COVID19Mexico.csv\")\n",
    "#Filtro por filas\n",
    "Covid= Covid.iloc[0:100000,: ]\n",
    "Covid"
   ]
  },
  {
   "cell_type": "code",
   "execution_count": null,
   "metadata": {},
   "outputs": [],
   "source": [
    "Covid[\"EMBARAZO\"]=Covid[\"EMBARAZO\"].fillna(round(Covid[\"EMBARAZO\"].mean(),1))\n",
    "Covid[\"EDAD\"]=Covid[\"EDAD\"].fillna(round(Covid[\"EDAD\"].mean(),1))\n",
    "Covid[\"SECTOR\"]=Covid[\"SECTOR\"].fillna(round(Covid[\"SECTOR\"].mean(),1))\n",
    "Covid[\"ENTIDAD_UM\"]=Covid[\"ENTIDAD_UM\"].fillna(round(Covid[\"ENTIDAD_UM\"].mean(),1))\n",
    "Covid[\"SEXO\"]=Covid[\"SEXO\"].fillna(round(Covid[\"SEXO\"].mean(),1))\n",
    "Covid[\"MUNICIPIO_RES\"]=Covid[\"MUNICIPIO_RES\"].fillna(round(Covid[\"MUNICIPIO_RES\"].mean(),1))\n",
    "valores_nulos=Covid.isnull().sum()\n",
    "valores_nulos"
   ]
  },
  {
   "cell_type": "code",
   "execution_count": null,
   "metadata": {},
   "outputs": [],
   "source": [
    "Covid= Covid.dropna(0)\n",
    "valores_nulos=Covid.isnull().sum()\n",
    "valores_nulos"
   ]
  },
  {
   "cell_type": "code",
   "execution_count": null,
   "metadata": {},
   "outputs": [],
   "source": [
    "#Observamos el comportamiento de los valores de Edad, para encontrar outliers.\n",
    "fig = plt.figure(figsize =(5, 3))\n",
    "plt.boxplot(Covid[\"EDAD\"]) \n",
    "plt.title(\"Outliers de Edad\")\n",
    "plt.show() #dibujamos el diagrama"
   ]
  },
  {
   "cell_type": "code",
   "execution_count": null,
   "metadata": {},
   "outputs": [],
   "source": [
    "#Limpiamos los valores outliers\n",
    "y=Covid[\"EDAD\"]\n",
    "Limite_Superior= y.mean() + 3*y.std()\n",
    "Limite_Inferior= y.mean() - 3*y.std()\n",
    "Covid1= Covid[(y<=Limite_Superior)&(y>=Limite_Inferior)]"
   ]
  },
  {
   "cell_type": "code",
   "execution_count": null,
   "metadata": {},
   "outputs": [],
   "source": [
    "#Observamos el comportamiento de los valores de Edad, para encontrar outliers.\n",
    "fig = plt.figure(figsize =(5, 3))\n",
    "plt.boxplot(Covid1[\"EDAD\"]) \n",
    "plt.title(\"Outliers de Edad\")\n",
    "plt.show() #dibujamos el diagrama\n",
    "\n",
    "#Solamente buscamos outliers en edad, debido a que los otros valores numéricos no son numéricos como tal sino que representan variables como sexo."
   ]
  },
  {
   "cell_type": "code",
   "execution_count": null,
   "metadata": {},
   "outputs": [],
   "source": [
    "#Reestructurar el Dataframe\n",
    "#Primera transformación\n",
    "Data= Covid1.pivot(index='ID', columns='SEXO',  values='EDAD')\n",
    "Data"
   ]
  },
  {
   "cell_type": "code",
   "execution_count": null,
   "metadata": {},
   "outputs": [],
   "source": [
    "# Barplot o grafico de barras\n",
    "Sexo = Data[Data.index.isin([1, 4])]\n",
    "\n",
    "# plotting\n",
    "Sexo.iplot(kind='bar', xTitle='ID',\n",
    "                           yTitle='Edad', title='Muestra de 2 registros')"
   ]
  },
  {
   "cell_type": "code",
   "execution_count": null,
   "metadata": {},
   "outputs": [],
   "source": [
    "# Boxplot o grafico de caja\n",
    "\n",
    "Data.iplot(kind='box', xTitle='Género',\n",
    "                    yTitle='Edad', title='Rango de edades de los registros por sexo')"
   ]
  },
  {
   "cell_type": "code",
   "execution_count": null,
   "metadata": {},
   "outputs": [],
   "source": [
    "#Histplot o Histograma\n",
    "\n",
    "Data[[2]].iplot(kind='hist',xTitle='Edad', \n",
    "                               title='Distibución de edades de los registros de sexo \"2\"')"
   ]
  },
  {
   "cell_type": "code",
   "execution_count": null,
   "metadata": {},
   "outputs": [],
   "source": [
    "#Segunda Transformación\n",
    "Data2= Covid1.pivot(index='ID', columns='RESULTADO_LAB',  values='EDAD')\n",
    "Data2"
   ]
  },
  {
   "cell_type": "code",
   "execution_count": null,
   "metadata": {},
   "outputs": [],
   "source": [
    "# Barplot o grafico de barras\n",
    "Resultado = Data2[Data2.index.isin([1, 4])]\n",
    "\n",
    "# plotting\n",
    "Resultado.iplot(kind='bar', xTitle='ID',\n",
    "                           yTitle='Edad', title='Muestra de 2 resultados')"
   ]
  },
  {
   "cell_type": "code",
   "execution_count": null,
   "metadata": {},
   "outputs": [],
   "source": [
    "# Boxplot o grafico de caja\n",
    "\n",
    "Data2.iplot(kind='box', xTitle='Resultado',\n",
    "                    yTitle='Edad', title='Rango de edades de los registros por Resultado')"
   ]
  },
  {
   "cell_type": "code",
   "execution_count": null,
   "metadata": {},
   "outputs": [],
   "source": [
    "#Histplot o Histograma\n",
    "\n",
    "Data2[[2]].iplot(kind='hist',xTitle='Edad', \n",
    "                               title='Distibución de edades de los resultados de laboratorio \"2\"')"
   ]
  },
  {
   "cell_type": "code",
   "execution_count": null,
   "metadata": {},
   "outputs": [],
   "source": [
    "#Tercera Transformación\n",
    "Data3= Covid1.pivot(index='ID', columns='MIGRANTE',  values='EDAD')\n",
    "Data3"
   ]
  },
  {
   "cell_type": "code",
   "execution_count": null,
   "metadata": {},
   "outputs": [],
   "source": [
    "# Barplot o grafico de barras\n",
    "Migrante = Data3[Data3.index.isin([1, 99])]\n",
    "\n",
    "# plotting\n",
    "Migrante.iplot(kind='bar', xTitle='ID',\n",
    "                           yTitle='Edad', title='Muestra de 2 registros')"
   ]
  },
  {
   "cell_type": "code",
   "execution_count": null,
   "metadata": {},
   "outputs": [],
   "source": [
    "# Boxplot o grafico de caja\n",
    "\n",
    "Data3.iplot(kind='box', xTitle='Migrante',\n",
    "                    yTitle='Edad', title='Rango de edades de los registros por resultado de migrante')"
   ]
  },
  {
   "cell_type": "code",
   "execution_count": null,
   "metadata": {},
   "outputs": [],
   "source": [
    "#Histplot o Histograma\n",
    "\n",
    "Data3[[99]].iplot(kind='hist',xTitle='Edad', \n",
    "                               title='Distibución de edades de los resultados de migrantes \"99\"')"
   ]
  }
 ],
 "metadata": {
  "language_info": {
   "name": "python"
  },
  "orig_nbformat": 4
 },
 "nbformat": 4,
 "nbformat_minor": 2
}
